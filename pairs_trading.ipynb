#get unmodified price ratios of MA:V.
price_ratios = df[pair[0]] / df[pair[1]]  # Price ratio of MA to V

# Plot the unmodified price ratios.
plt.figure(figsize=(10, 6))
plt.plot(price_ratios, label=f'Unmodified Price Ratio of {pair[0]}:{pair[1]}')
plt.axhline(y=price_ratios.mean(), color='red', linestyle='--')  # Horizontal line at zero
plt.autoscale(False)
plt.title(f'Unmodified Price Ratio of {pair[0]}:{pair[1]}')
plt.xlabel('Date')
plt.ylabel('Unmodified Price Ratios')
plt.show()
plt.close()
# Get the modified price ratios of MA:V.
# Prerequisites normality and a normal distribution are assured due to the taking of the natural log prior.
mod_ratios = norma / normb
z_scores = (mod_ratios - mean(mod_ratios) / stddev(mod_ratios))  #z-scores of the normalized values of V and MA

# Plot the modified price ratios.
plt.figure(figsize=(10, 5))
plt.plot(mod_ratios, label=f'Modified Price Ratio of {pair[0]}:{pair[1]}')
plt.axhline(y=mod_ratios.mean(), color='red', linestyle='--')  # Horizontal line at zero
plt.autoscale(False)
plt.title(f'Modified Price Ratio of {pair[0]}:{pair[1]}')
plt.xlabel('Date')
plt.ylabel('Modified Price Ratios')
plt.legend()
plt.show()
plt.close()

# Create a rolling window within the train set to utilize statistics most applicable and recent to  the timeframe.
# Utilize Panda's rolling() function to provide rolling window calculations.
price_ratios_mavg5 = price_ratios.rolling(window=5, min_periods = 1).mean()
price_ratios_mavg60 = price_ratios.rolling(window=60, min_periods = 1).mean()
price_ratios_std60 = price_ratios.rolling(window=60, min_periods = 1).std()

if price_ratios_std60.isna().iloc[0]:
  price_ratios_std60.iloc[0] = (0)

z_score_60_5 = (price_ratios_mavg5 - price_ratios_mavg60) / price_ratios_std60

if z_score_60_5.isna().iloc[0]:
  z_score_60_5.iloc[0] = (0)

# Creating a new pandas dataset primairly for the profit tracking function.
profit_tracker = pd.DataFrame(columns=['Date', pair[0], pair[1], 
                                           f'Buy_{pair[0]}', f'Buy_{pair[1]}',
                                           f'Sell_{pair[0]}', f'Sell_{pair[1]}',
                                           'Position', 'Profit Total', 'Profit Change'])
# making a function based on the z-score to track profit.
def trade_action(data, pair):
    stock_1 = data[pair[0]]
    stock_2 = data[pair[1]]
    zscores = z_score_60_5
    money = 1000
    position = None
    

    for i in range(len(zscores)):
        date = data.index[i]
        z = zscores.iloc[i]
        s1_price = stock_1.iloc[i]
        s2_price = stock_2.iloc[i]

        entry = {
            'Date': date,
            pair[0]: s1_price,
            pair[1]: s2_price,
            f'Buy_{pair[0]}': 0,
            f'Buy_{pair[1]}': 0,
            f'Sell_{pair[0]}': 0,
            f'Sell_{pair[1]}': 0,
            'Position': '',
            'Profit Total': 0,
            'Profit Change': 0
        }

        if z < -1.0 and position != 'long':
            # Long stock1, short stock2
            position = 'long'
            money -= s1_price - s2_price
            entry[f'Buy_{pair[0]}'] = s1_price
            entry[f'Sell_{pair[1]}'] = s2_price
            entry['Position'] = 'Long'
        elif z > 1.0 and position != 'short':
            # Short stock1, long stock2
            position = 'short'
            money += s1_price - s2_price
            entry[f'Sell_{pair[0]}'] = s1_price
            entry[f'Buy_{pair[1]}'] = s2_price
            entry['Position'] = 'Short'

        entry['Profit Total'] = money
        entry['Profit Change'] = money - 1000
        profit_tracker.loc[len(profit_tracker)] = entry

    return profit_tracker


# making the list of stock data into a list to try and make this function work
profit_t = trade_action(df, pair)

profit_t.to_csv('profit_tracker.csv', index=False)
print(profit_tracker.head())
# Making the plot with signals dependant on Z-score 
